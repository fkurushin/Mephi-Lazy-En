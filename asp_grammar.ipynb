{
 "cells": [
  {
   "attachments": {
    "image.png": {
     "image/png": "[encoded data removed]"
    }
   },
   "cell_type": "markdown",
   "id": "c9c92b89",
   "metadata": {},
   "source": [
    "![image.png](attachment:image.png)"
   ]
  },
  {
   "cell_type": "code",
   "execution_count": 170,
   "id": "007850d2",
   "metadata": {},
   "outputs": [
    {
     "data": {
      "text/plain": [
       "'\\nPerformance characteristics, such as response time, through- put and scalability, \\nare key quality attributes of distributed applications. Current practice, however, \\nrarely applies sys- tematic techniques to evaluate performance characteristics. \\nWe argue that evaluation of performance is particularly cru- cial in early development stages, \\nwhen important architec- tural choices are made. At first glance, this contradicts the use of \\ntesting techniques, which are usually applied to- wards the end of a project. In this paper, \\nwe assume that many distributed systems are built with middleware tech- nologies, such as the \\nJava 2 Enterprise Edition (J2EE) or the Common Ob ject Request Broker Architecture (CORBA). \\nThese provide services and facilities whose implementations are available when architectures are defined. \\nWe also note that it is the middleware functionality, such as transaction and persistence services, \\nremote communication primitives and threading policy primitives, that dominate distributed system performance. \\nDrawing on these observations, this paper presents a novel approach to performance testing of distributed applications. \\nWe propose to derive application- specific test cases from architecture designs so that perfor- mance of a distributed \\napplication can be tested using the middleware software at early stages of a development pro- cess. We report empirical \\nresults that support the viability of the approach. print me only the sentence \\n\\nfrom this text which has an articles A/An- numerical meaning of oneness\\n'"
      ]
     },
     "execution_count": 170,
     "metadata": {},
     "output_type": "execute_result"
    }
   ],
   "source": [
    "\"\"\"\n",
    "Performance characteristics, such as response time, through- put and scalability, \n",
    "are key quality attributes of distributed applications. Current practice, however, \n",
    "rarely applies sys- tematic techniques to evaluate performance characteristics. \n",
    "We argue that evaluation of performance is particularly cru- cial in early development stages, \n",
    "when important architec- tural choices are made. At first glance, this contradicts the use of \n",
    "testing techniques, which are usually applied to- wards the end of a project. In this paper, \n",
    "we assume that many distributed systems are built with middleware tech- nologies, such as the \n",
    "Java 2 Enterprise Edition (J2EE) or the Common Ob ject Request Broker Architecture (CORBA). \n",
    "These provide services and facilities whose implementations are available when architectures are defined. \n",
    "We also note that it is the middleware functionality, such as transaction and persistence services, \n",
    "remote communication primitives and threading policy primitives, that dominate distributed system performance. \n",
    "Drawing on these observations, this paper presents a novel approach to performance testing of distributed applications. \n",
    "We propose to derive application- specific test cases from architecture designs so that perfor- mance of a distributed \n",
    "application can be tested using the middleware software at early stages of a development pro- cess. We report empirical \n",
    "results that support the viability of the approach. print me only the sentence \n",
    "\n",
    "from this text which has an articles A/An- numerical meaning of oneness\n",
    "\"\"\""
   ]
  },
  {
   "cell_type": "code",
   "execution_count": 171,
   "id": "8a3af1d8",
   "metadata": {},
   "outputs": [],
   "source": [
    "patterns = {\n",
    "    \"ARTICLES\" : {              \n",
    "        'A/An- numerical meaning of oneness': r'\\b(a|an)\\b',\n",
    "        'Zero article - with uncountable nouns': r'\\b(advice|information|water|rice|knowledge|money|bread|butter|electricity|gas|music|art)\\b',\n",
    "        'A/An- generic function':r'\\b(a|an) . *is .*\\w+',\n",
    "        'Zero article - generic function': r'(?<!\\bthe\\b )(?<!\\ba\\b )(?<!\\ban\\b )\\b. *is .*\\w+',\n",
    "        'The- generic function':r'\\bthe .* is .*\\w+',\n",
    "        'A/An- first mention + The - second mention':r'\\b(a|an)\\b.*\\bthe\\b',\n",
    "        'A/An- when modified by a descriptive attribute':r'\\b(a|an) \\w+ \\w+',\n",
    "        'The- when modified by a limiting attribute': r'\\bthe (same|most|best|biggest|smallest|oldest|youngest) (\\w+)\\b',\n",
    "        'The - unique objects and notions': r'\\bthe (\\b[A-Z][a-z]*\\b|\\b[A-Z]+\\b)( [A-Z][a-z]*\\b)*',\n",
    "        'The by reason of locality': r'\\bthe \\w+',\n",
    "        'The when followed by an ordinal number': r'\\bthe (first|second|third|fourth|fifth|sixth|seventh|eighth|ninth|tenth|[0-9]+(st|nd|rd|th))\\b',\n",
    "        'Zero article when the noun is followed by a cardinal number': r'\\b([0-9]+) (\\w+s)\\b',\n",
    "    },\n",
    "    \"ACTIVE VOICE\" :  {\n",
    "        'Present Simple': r'\\w+es\\b',\n",
    "        'Present Continuous': r'\\b(is|are) \\w+ing\\b',\n",
    "        'Present Perfect': r'\\b(has|have) \\b(\\w+)',\n",
    "        'Present Perfect Continuous': r'\\b(has|have been) \\b(\\w+)',\n",
    "        'Past Simple': r'\\w+ed\\b',\n",
    "        'Past Continuous': r'\\b(was|were) .*\\w+ing\\b',\n",
    "        'Past Perfect': r'\\bhad .*\\w+ed\\b',\n",
    "        'Future Simple': r'\\bwill \\w+\\b(?! be\\b)',\n",
    "        'Future Perfect': r'\\bwill .*have\\b',\n",
    "    },\n",
    "    \"PASSIVE VOICE\" : {\n",
    "        'Passive Voice (Present Simple)': r'\\b(is|are) \\w+ed\\b',\n",
    "        'Passive Voice (Present Continuous)': r'\\b(is|are)\\b .*being\\b',\n",
    "        'Passive Voice (Present Perfect)': r'\\b(has|have) been \\w+ed\\b',\n",
    "        'Passive Voice (Past Simple)': r'\\b(was|were) \\w+ed\\b',\n",
    "        'Passive Voice (Past Perfect)': r'\\bhad been .*\\w+ed\\b',\n",
    "        'Passive Voice (Future Simple)': r'\\bwill be \\w+ed\\b|will be\\b',\n",
    "    },\n",
    "    \"VERBALS\" : {\n",
    "        'Infinitive as a Subject or Attribute': [r'^It is .* to \\w+.*', r'^To \\w+.*'],\n",
    "        'Infinitive as a Predicate': [r'.* is|was to \\w+.*', r'^Does he .* \\w+ \\?', r'(should|should not|can|can not) \\w+'],\n",
    "        'Infinitive as an Adverbial Modifier': [r'.* enough to \\w+.*', r'.* in order to \\w+.*', r'.* too \\w+ to \\w+.*'],\n",
    "        'Complex Object with Infinitive': [r'.* (want|wish|desire|mean|intend|choose|like|dislike|love|hate|think|believe|consider|expect|imagine|find|suppose|know|realize|declare|pronounce|proclaim|report|order|allow|suffer|permit|forbid|command|request|tell|ask) .* to \\w+.*',\n",
    "                                            r'.* (see|hear|feel|watch|observe|notice|make|let|have) \\w+.*'],\n",
    "        'Complex Subject with Infinitive': [r'^(It .*|To \\w+).* to \\w+.*', r'\\b(was|were) (seen|heard|noticed) .* to \\w+.*', \n",
    "                                            r'\\b(is|was|are|were) (announced|known|said|stated|reported|thought|to do|to go|to) .*'],\n",
    "        'Gerund as a Subject': [\n",
    "            r'\\b\\w+ing\\s+(is|are)\\b',\n",
    "            r'\\b\\w+ing\\s+[^ ]*s\\b',\n",
    "        ],\n",
    "        'Gerund as an Adverbial Modifier': [\n",
    "                r'\\b(on|after|before|in|since|by)\\s+\\w+ing\\b',\n",
    "                r'\\b(because of|through|for|from|from fear of|on account of)\\s+\\w+ing\\b',\n",
    "                r'\\b(instead of|rather than|than|better than|worse than|as ... as)\\s+\\w+ing\\b',\n",
    "                r'\\b(in spite of|despite)\\s+\\w+ing\\b',\n",
    "                r'\\b(without|except for)\\s+\\w+ing\\b',\n",
    "            ],\n",
    "        'Gerund as an Object (after preposition)': [\n",
    "                r'\\b(to\\s+)?(admit|appreciate|deny|dislike|enjoy|fancy|imagine|mention|miss|mind|risk|suggest)(ed)?\\s+.*\\w+ing\\b',\n",
    "                r'\\b(can\\'t help|can\\'t stand|need|want|to be worth|require|deserve)\\s+.*\\w+ing\\b',\n",
    "                r'\\b(to\\s+)?(suspect someone of|object to|look forward to|rely on|insist on|succeed in|apologize for|thank someone for)(ed)?\\s+.*\\w+ing\\b',\n",
    "                r'\\b(to be afraid|to be capable|to be sure|to be fond of|to be aware of|to be tired of|to be used to|to be interested in|to be good at|to prevent someone from)\\s+.*\\w+ing\\b',\n",
    "            ],\n",
    "        'Gerund after Verbs': [\n",
    "                r'\\b(like|love|hate|dislike|detest|can\\'t stand|give up|end up|begin|prefer|continue|start|finish|plan|neglect|remember|mean|stop|forget|try|regret|acknowledge|admit to|advise|approve of|allow|anticipate|appreciate|avoid|be worth|begin|explain|fancy|feel like|finish|forbid|forgive|hate|imagine|involve|justify|keep|mention|mind|miss|need|neglect|permit|picture|postpone|practise|prefer|prevent|propose|recollect|worry about)\\s+.*\\w+ing\\b'\n",
    "            ],\n",
    "        'Gerundial Complex':[r'\\b\\w+(ed|ing)\\b'], \n",
    "                \n",
    "        'Participle as an Attribute': [r'\\b\\w+(ed|ing)\\b'], \n",
    "        'Participle as an Adverbial Modifier':[r'\\b(if|unless)\\s+\\w+(ed|ing)\\b|(?<!\\baccording to\\s)\\b\\w+ing\\b\\s+to\\b'], \n",
    "        'Absolute Participial Construction':[r'\\bhaving\\s+.*\\w+ed,\\b|\\b\\w+(ing|ed),\\b'], \n",
    "        'Complex Object with the Participle':[r'\\b(see|watch|observe|notice|hear|feel|sees|watches|observes|notices|hears|feels|seed|watched|observed|noticed|heard|feeled)\\s+\\w+\\s+\\w+(ing|ed)\\b',\n",
    "                                                r'\\b(see|hear|notice|feel|watch|want|wish|desire|prefer|like|consider|believe|discover|find|sees|hears|notices|feels|watches|wants|wishes|desires|prefers|likes|considers|believes|discovers|finds|seed|heard|noticed|feeled|watched|wanted|wished|desired|preferred|liked|considered|believed|discovered|founded)\\s+\\w+\\s+\\w+(ing|ed)\\b'], \n",
    "\n",
    "        'Complex Subject with the Participle':[r'\\b(is|was|are|were)\\s+(heard|kept|saw|hearing|keeping|seeing)\\s+.*\\w+(ed|ing)\\b'],                   \n",
    "    },\n",
    "    \"MODAL VERBS\" : {\n",
    "        'Can / could / be able to': r'\\b(can|could|be able to)\\b',\n",
    "        'May / might': r'\\b(may|might)\\b',\n",
    "        'Must / have to': r'\\b(must|have to|had to)\\b',\n",
    "        'Should / ought to': r'\\b(should|ought to)\\b',\n",
    "    },\n",
    "    \"CONDITIONALS\" : {\n",
    "        'Zero Conditional': r'\\bif\\b.*\\bhave\\b',\n",
    "        'I Conditional': r'\\bif\\b.*\\bwill\\b',\n",
    "        'II Conditional': r'\\bif\\b.*\\bwould\\b',\n",
    "        'III Conditional': r'\\bif\\b.*\\bwould have\\b',\n",
    "    }\n",
    "}"
   ]
  },
  {
   "cell_type": "code",
   "execution_count": 172,
   "id": "fbb6b9c3",
   "metadata": {},
   "outputs": [],
   "source": [
    "import re"
   ]
  },
  {
   "cell_type": "code",
   "execution_count": 173,
   "id": "6d34c41d",
   "metadata": {},
   "outputs": [],
   "source": [
    "def compile(patterns):\n",
    "    patterns_compiled = {}\n",
    "    for name, pattern_dict in patterns.items():\n",
    "        pattern_dict_compiled = {}\n",
    "        for grammatical_feature, pattern in pattern_dict.items():\n",
    "            if isinstance(pattern, list):\n",
    "                pattern_compiled = []\n",
    "                for pat in pattern:\n",
    "                    pattern_compiled.append(re.compile(pat))\n",
    "                pattern_dict_compiled[grammatical_feature] = pattern_compiled\n",
    "            elif isinstance(pattern, str):\n",
    "                pattern_dict_compiled[grammatical_feature] = re.compile(pattern)\n",
    "            else:\n",
    "                print(\"wrong regex type\")\n",
    "            patterns_compiled[name] = pattern_dict_compiled\n",
    "    return patterns_compiled\n",
    "\n",
    "def find_pattern(sentence, patterns_compiled):\n",
    "    exclusion_for_adverbial_modifier = ['to begin with', 'to be frank', 'to put it mildly', 'to tell the truth', 'strange to say']\n",
    "\n",
    "    for name, pattern_dict in patterns_compiled.items():\n",
    "        for grammatical_feature, pattern in pattern_dict.items():\n",
    "            if isinstance(pattern, list):\n",
    "                for pat in pattern:\n",
    "                    if pat.search(sentence):\n",
    "                        if grammatical_feature == 'Infinitive as an Adverbial Modifier':\n",
    "                            if any(exclusion in sentence for exclusion in exclusion_for_adverbial_modifier):\n",
    "                                continue  # Exclusion found, ignore this match\n",
    "                        return name, grammatical_feature\n",
    "            elif isinstance(pattern, re.Pattern):\n",
    "                if pattern.search(sentence):\n",
    "                    if grammatical_feature == 'Infinitive as an Adverbial Modifier':\n",
    "                        if any(exclusion in sentence for exclusion in exclusion_for_adverbial_modifier):\n",
    "                            continue  # Exclusion found, ignore this match\n",
    "                    return name, grammatical_feature\n",
    "    return None\n",
    "\n",
    "def get_examples_struct(patterns, n=3):\n",
    "    # template = {i+1 : None for i in range(0, n)}\n",
    "    return {name : {grammatical_feature : {} for grammatical_feature in pattern_dict.keys()} for name, pattern_dict in patterns.items()}\n",
    "\n",
    "examples = get_examples_struct(patterns)\n",
    "patterns_compiled = compile(patterns)\n",
    "\n",
    "def input_pattern(sentence, pattern, examples):\n",
    "    name, grammatical_feature = pattern\n",
    "    n_examples = len(examples[name][grammatical_feature]) + 1\n",
    "    if n_examples <= 3:\n",
    "        examples[name][grammatical_feature][n_examples] = sentence\n",
    "    return examples"
   ]
  },
  {
   "cell_type": "code",
   "execution_count": 174,
   "id": "04f4620c",
   "metadata": {},
   "outputs": [],
   "source": [
    "articles = [\n",
    "    \"articles/Machine Learning The High Interest Credit Card of Technical Debt.pdf\",\n",
    "    \"articles/Attention is all you need.pdf\",\n",
    "    \"articles/QUEACO.pdf\",\n",
    "    \"articles/Query Rewrite for Null and Low Search.pdf\",\n",
    "    \"articles/NER.pdf\",\n",
    "    \"articles/NER_LENOVO.pdf\",\n",
    "    \"articles/query rewriting.pdf\",\n",
    "    \"articles/Auto sklearn.pdf\",\n",
    "    \"articles/3.Verified Mathematics With the help of computational proof assistants, formal verification could become the new standard for rigor in mathematics.pdf\",\n",
    "    \"articles/1.The Future of Software Performance Engineering.pdf\",\n",
    "    \"articles/GPT-3.pdf\",\n",
    "    \"articles/Chain of thoughts.pdf\"\n",
    "]"
   ]
  },
  {
   "cell_type": "code",
   "execution_count": 175,
   "id": "512465d9",
   "metadata": {},
   "outputs": [],
   "source": [
    "from pypdf import PdfReader\n",
    "from autocorrect import Speller"
   ]
  },
  {
   "cell_type": "code",
   "execution_count": 176,
   "id": "68d332ac",
   "metadata": {},
   "outputs": [],
   "source": [
    "spell = Speller(lang='en')"
   ]
  },
  {
   "cell_type": "code",
   "execution_count": 177,
   "id": "b23c3244",
   "metadata": {},
   "outputs": [
    {
     "name": "stdout",
     "output_type": "stream",
     "text": [
      "processing articles/Machine Learning The High Interest Credit Card of Technical Debt.pdf...\n",
      "processing articles/Attention is all you need.pdf...\n",
      "processing articles/QUEACO.pdf...\n",
      "processing articles/Query Rewrite for Null and Low Search.pdf...\n",
      "processing articles/NER.pdf...\n",
      "processing articles/NER_LENOVO.pdf...\n",
      "processing articles/query rewriting.pdf...\n",
      "processing articles/Auto sklearn.pdf...\n",
      "processing articles/3.Verified Mathematics With the help of computational proof assistants, formal verification could become the new standard for rigor in mathematics.pdf...\n",
      "processing articles/1.The Future of Software Performance Engineering.pdf...\n",
      "processing articles/GPT-3.pdf...\n",
      "processing articles/Chain of thoughts.pdf...\n"
     ]
    }
   ],
   "source": [
    "for i, article in enumerate(articles):\n",
    "    print(f\"processing {article}...\")\n",
    "    reader = PdfReader(article)\n",
    "    for page in reader.pages:\n",
    "        for sentence in page.extract_text().lower().replace(\"-\\n\", \"\").replace('\\n', ' ').split(\"\\\\.\"):\n",
    "            # print(sentence.strip(), \"---->\", spell(sentence.strip()), \"\\n\")\n",
    "            sentence = spell(sentence.strip())\n",
    "            pattern = find_pattern(sentence, patterns_compiled)\n",
    "            if pattern:\n",
    "                sentence += f\" [{i+1}:{page.page_number+1}]\"\n",
    "                examples = input_pattern(sentence, pattern, examples)\n",
    "            # print(f\"found {pattern} \", end='\\r')\n",
    "            # if re.search(word_pattern, sentence):\n",
    "            # examples[word_variance] = sentence.strip() + \".\" + f\"[{i+1}:{page.page_number+1}]\"\n",
    "                "
   ]
  },
  {
   "cell_type": "code",
   "execution_count": 166,
   "id": "7362a2c7",
   "metadata": {},
   "outputs": [],
   "source": [
    "def recall(examples):\n",
    "    filled = 0\n",
    "    full = 0\n",
    "    for _, grammatical_features in examples.items():\n",
    "        for grammatical_feature, examples in grammatical_features.items():\n",
    "            filled += len(examples)\n",
    "            if len(examples) == 0:\n",
    "                print(grammatical_feature)\n",
    "            full += 3\n",
    "    return round(filled / full, 3)\n",
    "        "
   ]
  },
  {
   "cell_type": "code",
   "execution_count": 167,
   "id": "b9eddba7",
   "metadata": {},
   "outputs": [
    {
     "name": "stdout",
     "output_type": "stream",
     "text": [
      "A/An- generic function\n",
      "A/An- first mention + The - second mention\n",
      "A/An- when modified by a descriptive attribute\n",
      "The - unique objects and notions\n",
      "The when followed by an ordinal number\n",
      "Present Perfect Continuous\n",
      "Past Perfect\n",
      "Future Perfect\n",
      "Passive Voice (Present Simple)\n",
      "Passive Voice (Present Continuous)\n",
      "Passive Voice (Present Perfect)\n",
      "Passive Voice (Past Simple)\n",
      "Passive Voice (Past Perfect)\n",
      "Passive Voice (Future Simple)\n",
      "Infinitive as a Subject or Attribute\n",
      "Complex Subject with Infinitive\n",
      "Participle as an Attribute\n",
      "Participle as an Adverbial Modifier\n",
      "Absolute Participial Construction\n",
      "Complex Object with the Participle\n",
      "Complex Subject with the Participle\n",
      "Zero Conditional\n",
      "I Conditional\n",
      "II Conditional\n",
      "III Conditional\n"
     ]
    },
    {
     "data": {
      "text/plain": [
       "0.447"
      ]
     },
     "execution_count": 167,
     "metadata": {},
     "output_type": "execute_result"
    }
   ],
   "source": [
    "recall(examples)"
   ]
  },
  {
   "cell_type": "code",
   "execution_count": null,
   "id": "6bb6ee63",
   "metadata": {},
   "outputs": [],
   "source": [
    "exclusion_for_adverbial_modifier = ['to begin with', 'to be frank', 'to put it mildly', 'to tell the truth', 'strange to say']\n",
    "    \n",
    "    # if keyword in verbals_patterns:\n",
    "    #     patterns = verbals_patterns[keyword]\n",
    "    #     for pattern in patterns:\n",
    "    #         if re.search(pattern, sentence):\n",
    "    #             # Check for exclusions in the Infinitive as an Adverbial Modifier\n",
    "    #             if keyword == 'Infinitive as an Adverbial Modifier':\n",
    "    #                 if any(exclusion in sentence for exclusion in exclusion_for_adverbial_modifier):\n",
    "    #                     continue  # Exclusion found, ignore this match\n",
    "                \n",
    "    #             return True  # Condition matched\n",
    "    # return False  # Condition not matched\n",
    "    \n",
    "    \n",
    "    \n",
    "    combined_patterns = {**passive_patterns, **active_patterns, **modal_verbs_patterns, **articles_patterns, **conditional_patterns}\n",
    "    # pattern = combined_patterns.get(keyword)\n",
    "    # if pattern:\n",
    "    #     return re.search(pattern, sentence)\n",
    "    # return None\n",
    "    \n",
    "    # ????????? ??????? ????????? ????? ? ???????? ???????? (?? verbals_patterns)\n",
    "    if keyword in combined_patterns:\n",
    "        pattern = combined_patterns[keyword]\n",
    "        return re.search(pattern, sentence) is not None\n",
    "\n",
    "    # ???????? ???????????? verbals_patterns, ??? ?????? ????? ????? ??????????????? ????????? ????????\n",
    "    elif keyword in verbals_patterns:\n",
    "        patterns = verbals_patterns[keyword]\n",
    "        for pattern in patterns:\n",
    "            if re.search(pattern, sentence):\n",
    "                # ????? ????? ????????? ??????????, ???? ??? ??????????\n",
    "                # Check for exclusions in the Infinitive as an Adverbial Modifier\n",
    "                if keyword == 'Infinitive as an Adverbial Modifier':\n",
    "                    if any(exclusion in sentence for exclusion in exclusion_for_adverbial_modifier):\n",
    "                        continue  # Exclusion found, ignore this match\n",
    "                return True  # ??????? ?????????????\n",
    "\n",
    "    # ???? ???? ?? ?????? ?? ? ????? ?? ????????\n",
    "    return False\n",
    "\n",
    "\n",
    "def find_sentences(word_list, pdf_files, output_file):\n",
    "    results_dict = {word: [] for word in word_list}\n",
    "    \n",
    "    for pdf_file in pdf_files:\n",
    "        with open(pdf_file, 'rb') as file:\n",
    "            pdf_reader = PyPDF2.PdfReader(file)\n",
    "            for page_number in range(len(pdf_reader.pages)):\n",
    "                page = pdf_reader.pages[page_number]\n",
    "                page_text = page.extract_text()\n",
    "                sentences = page_text.split('. ')\n",
    "\n",
    "                for sentence in sentences:\n",
    "                    for word in word_list:\n",
    "                        if check_conditions(sentence, word):\n",
    "                            clean_sentence = sentence.replace('\\n', '') \n",
    "                            results_dict[word].append(f'{clean_sentence} [{pdf_files.index(pdf_file)+1}: {page_number+1}]')\n",
    "\n",
    "    #  Excel \n",
    "    max_sentences = max(len(sentences) for sentences in results_dict.values())\n",
    "    columns_dict = {}\n",
    "    columns_dict['Key word'] = word_list\n",
    "    for i in range(max_sentences):\n",
    "        column_name = f'Context {i+1}'\n",
    "        columns_dict[column_name] = [sentences[i] if i < len(sentences) else '' for sentences in results_dict.values()]\n",
    "    result_df = pd.DataFrame(columns_dict)\n",
    "\n",
    "    result_df.to_excel(output_file, index=False)\n",
    "\n",
    "# ?????? ???? ? ??????\n",
    "excel_file = 'C:\\\\Grammar\\\\examples.xlsx'\n",
    "output_file = 'C:\\\\Grammar\\\\output_file.xlsx'\n",
    "#pdf_files = ['C:\\\\Grammar\\\\Statya_1.pdf','C:\\\\Grammar\\\\Statya_3.pdf','C:\\\\Grammar\\\\Statya_4.pdf','C:\\\\Grammar\\\\Statya_5.pdf', 'C:\\\\Grammar\\\\Article_Zamchalov.pdf']\n",
    "pdf_files = ['C:\\\\Grammar\\\\Article_Zamchalov.pdf','C:\\\\Grammar\\\\Konkov_Article2.pdf','C:\\\\Grammar\\\\Konkov_Article3.pdf','C:\\\\Grammar\\\\Konkov_Article4.pdf',\n",
    "             'C:\\\\Grammar\\\\Konkov_Article5.pdf','C:\\\\Grammar\\\\Konkov_Article6.pdf','C:\\\\Grammar\\\\Konkov_Article7.pdf','C:\\\\Grammar\\\\Konkov_Article8.pdf','C:\\\\Grammar\\\\Konkov_Article9.pdf']\n",
    "# pdf_files = ['C:\\\\Grammar\\\\Cox Proportional-Hazards Regression for Survival Data in R.pdf',\n",
    "#              'C:\\\\Grammar\\\\Coxs_Regression_Model_for_Counting_Processes_A_Large_Sample_Study.pdf',\n",
    "#              'C:\\\\Grammar\\\\Empirical_analysis_of_Chinese_overseas_power_plant_investments.pdf']\n",
    "\n",
    "\n",
    "\n",
    "df = pd.read_excel(excel_file)\n",
    "word_list = df.iloc[:, 0].astype(str).tolist()\n",
    "print (word_list)\n",
    "\n",
    "\n",
    "find_sentences(word_list, pdf_files, output_file)\n"
   ]
  },
  {
   "cell_type": "code",
   "execution_count": 39,
   "id": "16ca0627",
   "metadata": {},
   "outputs": [],
   "source": [
    "import pandas as pd\n",
    "from googletrans import Translator"
   ]
  },
  {
   "cell_type": "code",
   "execution_count": 40,
   "id": "1f2bd25f",
   "metadata": {},
   "outputs": [],
   "source": [
    "def read_txt(path):\n",
    "    with open(path, \"r\") as fo:\n",
    "        lines = fo.readlines()\n",
    "    return [line.lower().replace(\"\\n\", \"\").strip() for line in lines]"
   ]
  },
  {
   "cell_type": "code",
   "execution_count": 50,
   "id": "3472d947",
   "metadata": {},
   "outputs": [],
   "source": [
    "words = read_txt(\"source/A24-000_Name_Vocabulary_study.txt\")"
   ]
  },
  {
   "cell_type": "code",
   "execution_count": 51,
   "id": "0c12d9fd",
   "metadata": {},
   "outputs": [],
   "source": [
    "examples = {}"
   ]
  },
  {
   "cell_type": "code",
   "execution_count": 52,
   "id": "47b891d1",
   "metadata": {},
   "outputs": [],
   "source": [
    "from pypdf import PdfReader"
   ]
  },
  {
   "cell_type": "code",
   "execution_count": 53,
   "id": "33e03961",
   "metadata": {},
   "outputs": [],
   "source": [
    "articles = [\n",
    "    \"articles/Machine Learning The High Interest Credit Card of Technical Debt.pdf\",\n",
    "    \"articles/Attention is all you need.pdf\",\n",
    "    \"articles/QUEACO.pdf\",\n",
    "    \"articles/Query Rewrite for Null and Low Search.pdf\",\n",
    "    \"articles/NER.pdf\",\n",
    "    \"articles/NER_LENOVO.pdf\",\n",
    "    \"articles/query rewriting.pdf\",\n",
    "    \"articles/Auto sklearn.pdf\"\n",
    "]"
   ]
  },
  {
   "cell_type": "code",
   "execution_count": 54,
   "id": "b8489ec6",
   "metadata": {},
   "outputs": [],
   "source": [
    "# 'view': 'after reviewing the related work in section 2, we provide an overview of our problem setting and model design in section 3.[7:1]',"
   ]
  },
  {
   "cell_type": "code",
   "execution_count": 55,
   "id": "92bc58b9",
   "metadata": {},
   "outputs": [],
   "source": [
    "import re"
   ]
  },
  {
   "cell_type": "code",
   "execution_count": 56,
   "id": "078623c9",
   "metadata": {},
   "outputs": [
    {
     "name": "stdout",
     "output_type": "stream",
     "text": [
      "processing articles/Machine Learning The High Interest Credit Card of Technical Debt.pdf...\n",
      "processing articles/Attention is all you need.pdf...\n",
      "processing articles/QUEACO.pdf...\n",
      "processing articles/Query Rewrite for Null and Low Search.pdf...\n",
      "processing articles/NER.pdf...\n",
      "processing articles/NER_LENOVO.pdf...\n",
      "processing articles/query rewriting.pdf...\n",
      "processing articles/Auto sklearn.pdf...\n",
      "found in contrast e \r"
     ]
    }
   ],
   "source": [
    "for i, article in enumerate(articles):\n",
    "    print(f\"processing {article}...\")\n",
    "    reader = PdfReader(article)\n",
    "\n",
    "    for word in words:\n",
    "        if word in examples:\n",
    "            continue\n",
    "        for word_variance in word.split(\"/\"):\n",
    "            word_pattern = r'\\b' + re.escape(word_variance) + r'\\b'\n",
    "            for page in reader.pages:\n",
    "                for sentence in page.extract_text().lower().replace(\"\\n\", \" \").split(\".\"):\n",
    "                    if re.search(word_pattern, sentence):\n",
    "                        examples[word_variance] = sentence.strip() + \".\" + f\"[{i+1}:{page.page_number+1}]\"\n",
    "                        print(f\"found {word_variance} \", end='\\r')\n",
    "                        break\n",
    "                else:\n",
    "                    continue\n",
    "                break"
   ]
  },
  {
   "cell_type": "code",
   "execution_count": 57,
   "id": "827c3b93",
   "metadata": {},
   "outputs": [],
   "source": [
    "import translators as ts"
   ]
  },
  {
   "cell_type": "code",
   "execution_count": 58,
   "id": "d9d7dbcf",
   "metadata": {},
   "outputs": [],
   "source": [
    "from tqdm import tqdm"
   ]
  },
  {
   "cell_type": "code",
   "execution_count": 59,
   "id": "13781c77",
   "metadata": {},
   "outputs": [
    {
     "name": "stderr",
     "output_type": "stream",
     "text": [
      "100%|██████████| 213/213 [00:00<00:00, 990450.94it/s]\n"
     ]
    }
   ],
   "source": [
    "examples = {word : example.capitalize() for word, example in tqdm(examples.items(), position=0)}"
   ]
  },
  {
   "cell_type": "code",
   "execution_count": 60,
   "id": "d2d9becc",
   "metadata": {},
   "outputs": [
    {
     "name": "stderr",
     "output_type": "stream",
     "text": [
      "100%|██████████| 213/213 [03:50<00:00,  1.08s/it]\n"
     ]
    }
   ],
   "source": [
    "def translate(text):\n",
    "    return ts.translate_text(\n",
    "        text, \n",
    "        from_language='en', \n",
    "        to_language='ru', \n",
    "        translator='yandex',\n",
    "        timeout=30, \n",
    "        sleep_seconds=1, \n",
    "        update_session_after_freq=10)\n",
    "\n",
    "translations = {word : translate(example.split(\".\")[0]) for word, example in tqdm(examples.items(), position=0)}"
   ]
  },
  {
   "cell_type": "code",
   "execution_count": 61,
   "id": "ca8a92d1",
   "metadata": {},
   "outputs": [
    {
     "data": {
      "text/html": [
       "<div>\n",
       "<style scoped>\n",
       "    .dataframe tbody tr th:only-of-type {\n",
       "        vertical-align: middle;\n",
       "    }\n",
       "\n",
       "    .dataframe tbody tr th {\n",
       "        vertical-align: top;\n",
       "    }\n",
       "\n",
       "    .dataframe thead th {\n",
       "        text-align: right;\n",
       "    }\n",
       "</style>\n",
       "<table border=\"1\" class=\"dataframe\">\n",
       "  <thead>\n",
       "    <tr style=\"text-align: right;\">\n",
       "      <th></th>\n",
       "      <th>Key word</th>\n",
       "      <th>Context</th>\n",
       "      <th>Translation</th>\n",
       "    </tr>\n",
       "  </thead>\n",
       "  <tbody>\n",
       "    <tr>\n",
       "      <th>0</th>\n",
       "      <td>subject</td>\n",
       "      <td>This task presents specific challenges: the ou...</td>\n",
       "      <td>Эта задача сопряжена со специфическими труднос...</td>\n",
       "    </tr>\n",
       "    <tr>\n",
       "      <th>1</th>\n",
       "      <td>theme</td>\n",
       "      <td>-</td>\n",
       "      <td>-</td>\n",
       "    </tr>\n",
       "    <tr>\n",
       "      <th>2</th>\n",
       "      <td>topic</td>\n",
       "      <td>For example, rather than allowing a semantic m...</td>\n",
       "      <td>Например, вместо того, чтобы позволять семанти...</td>\n",
       "    </tr>\n",
       "    <tr>\n",
       "      <th>3</th>\n",
       "      <td>issue</td>\n",
       "      <td>The above mitigation strategies may help, but ...</td>\n",
       "      <td>Вышеприведенные стратегии смягчения последстви...</td>\n",
       "    </tr>\n",
       "    <tr>\n",
       "      <th>4</th>\n",
       "      <td>theory</td>\n",
       "      <td>In: nips workshop on bayesian optimization in ...</td>\n",
       "      <td>В: семинар nips по байесовской оптимизации в т...</td>\n",
       "    </tr>\n",
       "  </tbody>\n",
       "</table>\n",
       "</div>"
      ],
      "text/plain": [
       "  Key word                                            Context  \\\n",
       "0  subject  This task presents specific challenges: the ou...   \n",
       "1    theme                                                  -   \n",
       "2    topic  For example, rather than allowing a semantic m...   \n",
       "3    issue  The above mitigation strategies may help, but ...   \n",
       "4   theory  In: nips workshop on bayesian optimization in ...   \n",
       "\n",
       "                                         Translation  \n",
       "0  Эта задача сопряжена со специфическими труднос...  \n",
       "1                                                  -  \n",
       "2  Например, вместо того, чтобы позволять семанти...  \n",
       "3  Вышеприведенные стратегии смягчения последстви...  \n",
       "4  В: семинар nips по байесовской оптимизации в т...  "
      ]
     },
     "execution_count": 61,
     "metadata": {},
     "output_type": "execute_result"
    }
   ],
   "source": [
    "vocabulary = pd.DataFrame({\"Key word\": words,\n",
    "                           \"Context\": [examples.get(w, \"-\") for w in words],\n",
    "                           \"Translation\": [translations.get(w, \"-\") for w in words], \n",
    "                           })\n",
    "vocabulary.head()"
   ]
  },
  {
   "cell_type": "code",
   "execution_count": 62,
   "id": "f9810d91",
   "metadata": {},
   "outputs": [],
   "source": [
    "vocabulary.to_excel(\"output/vocabulary_full_new.xlsx\")"
   ]
  },
  {
   "cell_type": "code",
   "execution_count": null,
   "id": "1a407345",
   "metadata": {},
   "outputs": [],
   "source": []
  }
 ],
 "metadata": {
  "kernelspec": {
   "display_name": "venv",
   "language": "python",
   "name": "python3"
  },
  "language_info": {
   "codemirror_mode": {
    "name": "ipython",
    "version": 3
   },
   "file_extension": ".py",
   "mimetype": "text/x-python",
   "name": "python",
   "nbconvert_exporter": "python",
   "pygments_lexer": "ipython3",
   "version": "3.12.7"
  }
 },
 "nbformat": 4,
 "nbformat_minor": 5
}
