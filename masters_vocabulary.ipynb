{
 "cells": [
  {
   "cell_type": "code",
   "execution_count": 4,
   "id": "16ca0627",
   "metadata": {},
   "outputs": [],
   "source": [
    "import pandas as pd\n",
    "import textract\n",
    "import string\n",
    "from PyDictionary import PyDictionary\n",
    "from googletrans import Translator"
   ]
  },
  {
   "cell_type": "code",
   "execution_count": 5,
   "id": "fe282f5f",
   "metadata": {},
   "outputs": [
    {
     "name": "stdout",
     "output_type": "stream",
     "text": [
      "9BMN0W-chowdhuryIR1.pdf      missings-spaces-proc.numbers\n",
      "\u001b[31mIRS.key\u001b[m\u001b[m                      voc.txt\n",
      "IRS.pdf                      \u001b[31mvocabulary_full.numbers\u001b[m\u001b[m\n",
      "IRS.pptx                     vocabulary_full.xlsx\n",
      "\u001b[31mNIOKR_V3.key\u001b[m\u001b[m                 \u001b[31mvocabulary_full_new.numbers\u001b[m\u001b[m\n",
      "Untitled.ipynb               vocabulary_full_new.xlsx\n",
      "\u001b[31mVocabulary.numbers\u001b[m\u001b[m\n"
     ]
    }
   ],
   "source": [
    "!ls"
   ]
  },
  {
   "cell_type": "code",
   "execution_count": 6,
   "id": "37097609",
   "metadata": {},
   "outputs": [],
   "source": [
    "text = textract.process('9BMN0W-chowdhuryIR1.pdf', method='pdfminer')"
   ]
  },
  {
   "cell_type": "code",
   "execution_count": 2,
   "id": "ecf2add1",
   "metadata": {},
   "outputs": [],
   "source": [
    "dictionary=PyDictionary()\n",
    "translator = Translator()\n",
    "\n",
    "def pdf_cleaner(pdf):\n",
    "    paragraphes = pdf.decode(\"utf-8\").split(\"\\n\\n\")\n",
    "    parsed_pdf = list()\n",
    "    for paragraph in paragraphes:\n",
    "        token = paragraph.replace(\"\\n\", \" \").replace(\":\", \"\").replace(\";\", \"\").replace(\",\", \"\").replace(\"►\", \"\").replace(\"\\x0c\", \"\").lower().split(\".\")\n",
    "        parsed_pdf.extend(token)\n",
    "    return parsed_pdf\n",
    "\n",
    "def read_txt(path):\n",
    "    with open(path, \"r\") as fo:\n",
    "        lines = fo.readlines()\n",
    "    return [line.lower().replace(\"\\n\", \"\").replace(\" \", \"\") for line in lines]\n",
    "\n",
    "def get_example(text, word):\n",
    "    for sentence in text:\n",
    "        if word in sentence.split(\" \"):\n",
    "            break\n",
    "    return sentence\n",
    "\n",
    "def get_meaning(word):\n",
    "    return dictionary.meaning(word)\n",
    "\n",
    "def get_translate(sentence):\n",
    "    try: \n",
    "        tmp = translator.translate(sentence, src='en', dest='ru').text\n",
    "    except Exception as e:\n",
    "        tmp = str(e)\n",
    "    return tmp"
   ]
  },
  {
   "cell_type": "code",
   "execution_count": 3,
   "id": "d2d9becc",
   "metadata": {},
   "outputs": [
    {
     "ename": "NameError",
     "evalue": "name 'text' is not defined",
     "output_type": "error",
     "traceback": [
      "\u001b[0;31m---------------------------------------------------------------------------\u001b[0m",
      "\u001b[0;31mNameError\u001b[0m                                 Traceback (most recent call last)",
      "\u001b[1;32m/Users/fedorkurusin/Documents/HES/english/Untitled.ipynb Cell 5\u001b[0m in \u001b[0;36m1\n\u001b[0;32m----> <a href='vscode-notebook-cell:/Users/fedorkurusin/Documents/HES/english/Untitled.ipynb#W4sZmlsZQ%3D%3D?line=0'>1</a>\u001b[0m pdf \u001b[39m=\u001b[39m pdf_cleaner(text)\n\u001b[1;32m      <a href='vscode-notebook-cell:/Users/fedorkurusin/Documents/HES/english/Untitled.ipynb#W4sZmlsZQ%3D%3D?line=1'>2</a>\u001b[0m words \u001b[39m=\u001b[39m read_txt(\u001b[39m\"\u001b[39m\u001b[39mvoc.txt\u001b[39m\u001b[39m\"\u001b[39m)\n\u001b[1;32m      <a href='vscode-notebook-cell:/Users/fedorkurusin/Documents/HES/english/Untitled.ipynb#W4sZmlsZQ%3D%3D?line=2'>3</a>\u001b[0m meanings \u001b[39m=\u001b[39m [get_meaning(word) \u001b[39mfor\u001b[39;00m word \u001b[39min\u001b[39;00m words]\n",
      "\u001b[0;31mNameError\u001b[0m: name 'text' is not defined"
     ]
    }
   ],
   "source": [
    "pdf = pdf_cleaner(text)\n",
    "words = read_txt(\"voc.txt\")\n",
    "meanings = [get_meaning(word) for word in words]\n",
    "examples = [get_example(pdf, word) for word in words]\n",
    "translates = [get_translate(example) for example in examples]\n",
    "word_translates = [get_translate(word) for word in words]"
   ]
  },
  {
   "cell_type": "code",
   "execution_count": null,
   "id": "ca8a92d1",
   "metadata": {},
   "outputs": [],
   "source": [
    "vocabulary = pd.DataFrame({\"words\": words,\n",
    "                           \"word_translates\": word_translate,\n",
    "                           \"meanings\": meanings, \n",
    "                           \"examples\": examples, \n",
    "                           \"translates\": translates})\n",
    "vocabulary.head()"
   ]
  },
  {
   "cell_type": "code",
   "execution_count": null,
   "id": "f9810d91",
   "metadata": {},
   "outputs": [],
   "source": [
    "vocabulary.to_excel(\"vocabulary_full_new.xlsx\")"
   ]
  },
  {
   "cell_type": "code",
   "execution_count": 6,
   "id": "4e36fe05",
   "metadata": {},
   "outputs": [],
   "source": [
    "import textract\n",
    "\n",
    "def pdf_cleaner(pdf):\n",
    "    paragraphes = pdf.decode(\"utf-8\").split(\"\\n\\n\")\n",
    "    parsed_pdf = list()\n",
    "    for paragraph in paragraphes:\n",
    "        token = paragraph.replace(\"\\n\", \" \").replace(\":\", \"\").replace(\";\", \"\").replace(\",\", \"\").replace(\"►\", \"\").replace(\"\\x0c\", \"\").lower().split(\".\")\n",
    "        parsed_pdf.extend(token)\n",
    "    return parsed_pdf\n",
    "\n",
    "def get_example(text, word):\n",
    "    for sentence in text:\n",
    "        if word in sentence.split(\" \"):\n",
    "            break\n",
    "    return sentence\n",
    "\n",
    "\n",
    "\n",
    "text = textract.process('9BMN0W-chowdhuryIR1.pdf', method='pdfminer')\n",
    "pdf = pdf_cleaner(text)\n",
    "words = [\"some\", \"words\", \"to\", \"find\"] \n",
    "examples = [get_example(pdf, word) for word in words]"
   ]
  },
  {
   "cell_type": "code",
   "execution_count": null,
   "id": "1a407345",
   "metadata": {},
   "outputs": [],
   "source": []
  }
 ],
 "metadata": {
  "kernelspec": {
   "display_name": "Python 3 (ipykernel)",
   "language": "python",
   "name": "python3"
  },
  "language_info": {
   "codemirror_mode": {
    "name": "ipython",
    "version": 3
   },
   "file_extension": ".py",
   "mimetype": "text/x-python",
   "name": "python",
   "nbconvert_exporter": "python",
   "pygments_lexer": "ipython3",
   "version": "3.10.8"
  }
 },
 "nbformat": 4,
 "nbformat_minor": 5
}
